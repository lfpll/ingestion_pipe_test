{
 "cells": [
  {
   "cell_type": "code",
   "execution_count": 1,
   "metadata": {},
   "outputs": [
    {
     "name": "stdout",
     "output_type": "stream",
     "text": [
      "Collecting psycopg2-binary\n",
      "  Downloading psycopg2_binary-2.9.9-cp311-cp311-manylinux_2_17_x86_64.manylinux2014_x86_64.whl.metadata (4.4 kB)\n",
      "Downloading psycopg2_binary-2.9.9-cp311-cp311-manylinux_2_17_x86_64.manylinux2014_x86_64.whl (3.0 MB)\n",
      "\u001b[2K   \u001b[90m━━━━━━━━━━━━━━━━━━━━━━━━━━━━━━━━━━━━━━━━\u001b[0m \u001b[32m3.0/3.0 MB\u001b[0m \u001b[31m13.8 MB/s\u001b[0m eta \u001b[36m0:00:00\u001b[0m00:01\u001b[0m00:01\u001b[0m\n",
      "\u001b[?25hInstalling collected packages: psycopg2-binary\n",
      "Successfully installed psycopg2-binary-2.9.9\n"
     ]
    }
   ],
   "source": [
    "!pip install psycopg2-binary"
   ]
  },
  {
   "cell_type": "code",
   "execution_count": 4,
   "metadata": {},
   "outputs": [
    {
     "name": "stdout",
     "output_type": "stream",
     "text": [
      "           user_name listened_date number_of_listens\n",
      "0    AscendedGravity    2019-02-26                77\n",
      "1    AscendedGravity    2019-04-09                61\n",
      "2    AscendedGravity    2019-04-05                55\n",
      "3          Boris_Neo    2019-01-23                57\n",
      "4          Boris_Neo    2019-01-24                38\n",
      "..               ...           ...               ...\n",
      "673      isuguitar12    2019-03-06                87\n",
      "674      isuguitar12    2019-02-04                42\n",
      "675      isuguitar12    2019-01-11                42\n",
      "676           kemuel    2019-03-19                44\n",
      "677       2019-02-26             a                 b\n",
      "\n",
      "[678 rows x 3 columns]\n"
     ]
    }
   ],
   "source": [
    "import pandas as pd\n",
    "from sqlalchemy import create_engine\n",
    "\n",
    "# Define default PostgreSQL credentials\n",
    "HOST = 'database'\n",
    "PORT = '5432'\n",
    "DB_NAME = 'postgres'  # Replace with your database name\n",
    "USER = 'postgres'  # Default PostgreSQL user\n",
    "PASSWORD = 'postgres'  # Default PostgreSQL password\n",
    "\n",
    "# Create a database connection URL\n",
    "connection_string = f'postgresql://{USER}:{PASSWORD}@{HOST}:{PORT}/{DB_NAME}'\n",
    "\n",
    "# Create a database engine\n",
    "engine = create_engine(connection_string)\n",
    "\n",
    "# Query the 'data' table\n",
    "query = \"SELECT * FROM data\"  # You can modify this query based on your needs\n",
    "\n",
    "# Use pandas to load the query results into a DataFrame\n",
    "data_df = pd.read_sql(query, engine)\n",
    "\n",
    "# Display the DataFrame\n",
    "print(data_df)\n"
   ]
  },
  {
   "cell_type": "code",
   "execution_count": null,
   "metadata": {},
   "outputs": [],
   "source": []
  }
 ],
 "metadata": {
  "kernelspec": {
   "display_name": "Python 3 (ipykernel)",
   "language": "python",
   "name": "python3"
  },
  "language_info": {
   "codemirror_mode": {
    "name": "ipython",
    "version": 3
   },
   "file_extension": ".py",
   "mimetype": "text/x-python",
   "name": "python",
   "nbconvert_exporter": "python",
   "pygments_lexer": "ipython3",
   "version": "3.11.6"
  }
 },
 "nbformat": 4,
 "nbformat_minor": 4
}
